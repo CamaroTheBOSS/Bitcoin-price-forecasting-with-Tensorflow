{
  "nbformat": 4,
  "nbformat_minor": 0,
  "metadata": {
    "colab": {
      "name": "ML004.ipynb",
      "provenance": []
    },
    "kernelspec": {
      "name": "python3",
      "display_name": "Python 3"
    },
    "language_info": {
      "name": "python"
    },
    "accelerator": "GPU"
  },
  "cells": [
    {
      "cell_type": "code",
      "execution_count": null,
      "metadata": {
        "colab": {
          "resources": {
            "http://localhost:8080/nbextensions/google.colab/files.js": {
              "data": "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",
              "ok": true,
              "headers": [
                [
                  "content-type",
                  "application/javascript"
                ]
              ],
              "status": 200,
              "status_text": ""
            }
          },
          "base_uri": "https://localhost:8080/",
          "height": 73
        },
        "id": "yXSC_5nDs0VU",
        "outputId": "cccee061-85da-4e88-ef02-49d3df54f37f"
      },
      "outputs": [
        {
          "output_type": "display_data",
          "data": {
            "text/html": [
              "\n",
              "     <input type=\"file\" id=\"files-e8d50af3-0465-4bb8-a066-aa892be0864d\" name=\"files[]\" multiple disabled\n",
              "        style=\"border:none\" />\n",
              "     <output id=\"result-e8d50af3-0465-4bb8-a066-aa892be0864d\">\n",
              "      Upload widget is only available when the cell has been executed in the\n",
              "      current browser session. Please rerun this cell to enable.\n",
              "      </output>\n",
              "      <script src=\"/nbextensions/google.colab/files.js\"></script> "
            ],
            "text/plain": [
              "<IPython.core.display.HTML object>"
            ]
          },
          "metadata": {}
        },
        {
          "output_type": "stream",
          "name": "stdout",
          "text": [
            "Saving BTC.csv to BTC (1).csv\n"
          ]
        }
      ],
      "source": [
        "from google.colab import files\n",
        "uploaded = files.upload()"
      ]
    },
    {
      "cell_type": "code",
      "source": [
        "import pandas as pd\n",
        "import io\n",
        "import matplotlib.pyplot as plt\n",
        "import numpy as np\n",
        "from sklearn.preprocessing import MinMaxScaler"
      ],
      "metadata": {
        "id": "UJ1OKJ68unmx"
      },
      "execution_count": null,
      "outputs": []
    },
    {
      "cell_type": "code",
      "source": [
        "# 1. Reading CSV\n",
        "BTCdata = pd.read_csv(io.BytesIO(uploaded['BTC.csv']), thousands=',')"
      ],
      "metadata": {
        "id": "ntyMaZ0nuwaX"
      },
      "execution_count": null,
      "outputs": []
    },
    {
      "cell_type": "code",
      "source": [
        "# 2. Reversing the data\n",
        "BTCdata = BTCdata.iloc[::-1]\n",
        "BTCdata"
      ],
      "metadata": {
        "colab": {
          "base_uri": "https://localhost:8080/",
          "height": 424
        },
        "id": "imkOTAdCu3W3",
        "outputId": "78ba7b60-341b-4d05-dfbc-240aff72d512"
      },
      "execution_count": null,
      "outputs": [
        {
          "output_type": "execute_result",
          "data": {
            "text/html": [
              "\n",
              "  <div id=\"df-7984aed1-538e-460f-86ee-de42e5c3c855\">\n",
              "    <div class=\"colab-df-container\">\n",
              "      <div>\n",
              "<style scoped>\n",
              "    .dataframe tbody tr th:only-of-type {\n",
              "        vertical-align: middle;\n",
              "    }\n",
              "\n",
              "    .dataframe tbody tr th {\n",
              "        vertical-align: top;\n",
              "    }\n",
              "\n",
              "    .dataframe thead th {\n",
              "        text-align: right;\n",
              "    }\n",
              "</style>\n",
              "<table border=\"1\" class=\"dataframe\">\n",
              "  <thead>\n",
              "    <tr style=\"text-align: right;\">\n",
              "      <th></th>\n",
              "      <th>Date</th>\n",
              "      <th>Price</th>\n",
              "      <th>Open</th>\n",
              "      <th>High</th>\n",
              "      <th>Low</th>\n",
              "      <th>Vol.</th>\n",
              "      <th>Change %</th>\n",
              "    </tr>\n",
              "  </thead>\n",
              "  <tbody>\n",
              "    <tr>\n",
              "      <th>1096</th>\n",
              "      <td>Jan 17, 2019</td>\n",
              "      <td>3626.4</td>\n",
              "      <td>3588.1</td>\n",
              "      <td>3636.7</td>\n",
              "      <td>3554.8</td>\n",
              "      <td>525.10K</td>\n",
              "      <td>1.07%</td>\n",
              "    </tr>\n",
              "    <tr>\n",
              "      <th>1095</th>\n",
              "      <td>Jan 18, 2019</td>\n",
              "      <td>3605.6</td>\n",
              "      <td>3626.3</td>\n",
              "      <td>3627.9</td>\n",
              "      <td>3575.7</td>\n",
              "      <td>488.16K</td>\n",
              "      <td>-0.57%</td>\n",
              "    </tr>\n",
              "    <tr>\n",
              "      <th>1094</th>\n",
              "      <td>Jan 19, 2019</td>\n",
              "      <td>3677.8</td>\n",
              "      <td>3605.8</td>\n",
              "      <td>3715.2</td>\n",
              "      <td>3604.1</td>\n",
              "      <td>537.06K</td>\n",
              "      <td>2.00%</td>\n",
              "    </tr>\n",
              "    <tr>\n",
              "      <th>1093</th>\n",
              "      <td>Jan 20, 2019</td>\n",
              "      <td>3542.3</td>\n",
              "      <td>3676.2</td>\n",
              "      <td>3699.1</td>\n",
              "      <td>3503.9</td>\n",
              "      <td>563.31K</td>\n",
              "      <td>-3.68%</td>\n",
              "    </tr>\n",
              "    <tr>\n",
              "      <th>1092</th>\n",
              "      <td>Jan 21, 2019</td>\n",
              "      <td>3536.7</td>\n",
              "      <td>3542.7</td>\n",
              "      <td>3561.4</td>\n",
              "      <td>3505.4</td>\n",
              "      <td>394.17K</td>\n",
              "      <td>-0.16%</td>\n",
              "    </tr>\n",
              "    <tr>\n",
              "      <th>...</th>\n",
              "      <td>...</td>\n",
              "      <td>...</td>\n",
              "      <td>...</td>\n",
              "      <td>...</td>\n",
              "      <td>...</td>\n",
              "      <td>...</td>\n",
              "      <td>...</td>\n",
              "    </tr>\n",
              "    <tr>\n",
              "      <th>4</th>\n",
              "      <td>Jan 13, 2022</td>\n",
              "      <td>42560.0</td>\n",
              "      <td>43900.0</td>\n",
              "      <td>44404.7</td>\n",
              "      <td>42337.5</td>\n",
              "      <td>53.42K</td>\n",
              "      <td>-3.05%</td>\n",
              "    </tr>\n",
              "    <tr>\n",
              "      <th>3</th>\n",
              "      <td>Jan 14, 2022</td>\n",
              "      <td>43073.3</td>\n",
              "      <td>42562.2</td>\n",
              "      <td>43435.1</td>\n",
              "      <td>41848.7</td>\n",
              "      <td>50.50K</td>\n",
              "      <td>1.21%</td>\n",
              "    </tr>\n",
              "    <tr>\n",
              "      <th>2</th>\n",
              "      <td>Jan 15, 2022</td>\n",
              "      <td>43097.0</td>\n",
              "      <td>43073.6</td>\n",
              "      <td>43777.9</td>\n",
              "      <td>42586.1</td>\n",
              "      <td>31.44K</td>\n",
              "      <td>0.06%</td>\n",
              "    </tr>\n",
              "    <tr>\n",
              "      <th>1</th>\n",
              "      <td>Jan 16, 2022</td>\n",
              "      <td>43079.1</td>\n",
              "      <td>43079.2</td>\n",
              "      <td>43462.0</td>\n",
              "      <td>42643.3</td>\n",
              "      <td>28.66K</td>\n",
              "      <td>-0.04%</td>\n",
              "    </tr>\n",
              "    <tr>\n",
              "      <th>0</th>\n",
              "      <td>Jan 17, 2022</td>\n",
              "      <td>42638.9</td>\n",
              "      <td>43080.5</td>\n",
              "      <td>43179.6</td>\n",
              "      <td>42363.0</td>\n",
              "      <td>30.78K</td>\n",
              "      <td>-1.02%</td>\n",
              "    </tr>\n",
              "  </tbody>\n",
              "</table>\n",
              "<p>1097 rows × 7 columns</p>\n",
              "</div>\n",
              "      <button class=\"colab-df-convert\" onclick=\"convertToInteractive('df-7984aed1-538e-460f-86ee-de42e5c3c855')\"\n",
              "              title=\"Convert this dataframe to an interactive table.\"\n",
              "              style=\"display:none;\">\n",
              "        \n",
              "  <svg xmlns=\"http://www.w3.org/2000/svg\" height=\"24px\"viewBox=\"0 0 24 24\"\n",
              "       width=\"24px\">\n",
              "    <path d=\"M0 0h24v24H0V0z\" fill=\"none\"/>\n",
              "    <path d=\"M18.56 5.44l.94 2.06.94-2.06 2.06-.94-2.06-.94-.94-2.06-.94 2.06-2.06.94zm-11 1L8.5 8.5l.94-2.06 2.06-.94-2.06-.94L8.5 2.5l-.94 2.06-2.06.94zm10 10l.94 2.06.94-2.06 2.06-.94-2.06-.94-.94-2.06-.94 2.06-2.06.94z\"/><path d=\"M17.41 7.96l-1.37-1.37c-.4-.4-.92-.59-1.43-.59-.52 0-1.04.2-1.43.59L10.3 9.45l-7.72 7.72c-.78.78-.78 2.05 0 2.83L4 21.41c.39.39.9.59 1.41.59.51 0 1.02-.2 1.41-.59l7.78-7.78 2.81-2.81c.8-.78.8-2.07 0-2.86zM5.41 20L4 18.59l7.72-7.72 1.47 1.35L5.41 20z\"/>\n",
              "  </svg>\n",
              "      </button>\n",
              "      \n",
              "  <style>\n",
              "    .colab-df-container {\n",
              "      display:flex;\n",
              "      flex-wrap:wrap;\n",
              "      gap: 12px;\n",
              "    }\n",
              "\n",
              "    .colab-df-convert {\n",
              "      background-color: #E8F0FE;\n",
              "      border: none;\n",
              "      border-radius: 50%;\n",
              "      cursor: pointer;\n",
              "      display: none;\n",
              "      fill: #1967D2;\n",
              "      height: 32px;\n",
              "      padding: 0 0 0 0;\n",
              "      width: 32px;\n",
              "    }\n",
              "\n",
              "    .colab-df-convert:hover {\n",
              "      background-color: #E2EBFA;\n",
              "      box-shadow: 0px 1px 2px rgba(60, 64, 67, 0.3), 0px 1px 3px 1px rgba(60, 64, 67, 0.15);\n",
              "      fill: #174EA6;\n",
              "    }\n",
              "\n",
              "    [theme=dark] .colab-df-convert {\n",
              "      background-color: #3B4455;\n",
              "      fill: #D2E3FC;\n",
              "    }\n",
              "\n",
              "    [theme=dark] .colab-df-convert:hover {\n",
              "      background-color: #434B5C;\n",
              "      box-shadow: 0px 1px 3px 1px rgba(0, 0, 0, 0.15);\n",
              "      filter: drop-shadow(0px 1px 2px rgba(0, 0, 0, 0.3));\n",
              "      fill: #FFFFFF;\n",
              "    }\n",
              "  </style>\n",
              "\n",
              "      <script>\n",
              "        const buttonEl =\n",
              "          document.querySelector('#df-7984aed1-538e-460f-86ee-de42e5c3c855 button.colab-df-convert');\n",
              "        buttonEl.style.display =\n",
              "          google.colab.kernel.accessAllowed ? 'block' : 'none';\n",
              "\n",
              "        async function convertToInteractive(key) {\n",
              "          const element = document.querySelector('#df-7984aed1-538e-460f-86ee-de42e5c3c855');\n",
              "          const dataTable =\n",
              "            await google.colab.kernel.invokeFunction('convertToInteractive',\n",
              "                                                     [key], {});\n",
              "          if (!dataTable) return;\n",
              "\n",
              "          const docLinkHtml = 'Like what you see? Visit the ' +\n",
              "            '<a target=\"_blank\" href=https://colab.research.google.com/notebooks/data_table.ipynb>data table notebook</a>'\n",
              "            + ' to learn more about interactive tables.';\n",
              "          element.innerHTML = '';\n",
              "          dataTable['output_type'] = 'display_data';\n",
              "          await google.colab.output.renderOutput(dataTable, element);\n",
              "          const docLink = document.createElement('div');\n",
              "          docLink.innerHTML = docLinkHtml;\n",
              "          element.appendChild(docLink);\n",
              "        }\n",
              "      </script>\n",
              "    </div>\n",
              "  </div>\n",
              "  "
            ],
            "text/plain": [
              "              Date    Price     Open     High      Low     Vol. Change %\n",
              "1096  Jan 17, 2019   3626.4   3588.1   3636.7   3554.8  525.10K    1.07%\n",
              "1095  Jan 18, 2019   3605.6   3626.3   3627.9   3575.7  488.16K   -0.57%\n",
              "1094  Jan 19, 2019   3677.8   3605.8   3715.2   3604.1  537.06K    2.00%\n",
              "1093  Jan 20, 2019   3542.3   3676.2   3699.1   3503.9  563.31K   -3.68%\n",
              "1092  Jan 21, 2019   3536.7   3542.7   3561.4   3505.4  394.17K   -0.16%\n",
              "...            ...      ...      ...      ...      ...      ...      ...\n",
              "4     Jan 13, 2022  42560.0  43900.0  44404.7  42337.5   53.42K   -3.05%\n",
              "3     Jan 14, 2022  43073.3  42562.2  43435.1  41848.7   50.50K    1.21%\n",
              "2     Jan 15, 2022  43097.0  43073.6  43777.9  42586.1   31.44K    0.06%\n",
              "1     Jan 16, 2022  43079.1  43079.2  43462.0  42643.3   28.66K   -0.04%\n",
              "0     Jan 17, 2022  42638.9  43080.5  43179.6  42363.0   30.78K   -1.02%\n",
              "\n",
              "[1097 rows x 7 columns]"
            ]
          },
          "metadata": {},
          "execution_count": 226
        }
      ]
    },
    {
      "cell_type": "code",
      "source": [
        "# 3. Simplify dataframe\n",
        "BTCdataPrice = BTCdata.reset_index()['Price']\n",
        "BTCdataPrice = BTCdataPrice[:].reset_index()['Price']\n",
        "BTCdataPrice"
      ],
      "metadata": {
        "colab": {
          "base_uri": "https://localhost:8080/"
        },
        "id": "TLNDfShSu5Jv",
        "outputId": "bc8b12a0-3252-423b-e837-964e391949a7"
      },
      "execution_count": null,
      "outputs": [
        {
          "output_type": "execute_result",
          "data": {
            "text/plain": [
              "0        3626.4\n",
              "1        3605.6\n",
              "2        3677.8\n",
              "3        3542.3\n",
              "4        3536.7\n",
              "         ...   \n",
              "1092    42560.0\n",
              "1093    43073.3\n",
              "1094    43097.0\n",
              "1095    43079.1\n",
              "1096    42638.9\n",
              "Name: Price, Length: 1097, dtype: float64"
            ]
          },
          "metadata": {},
          "execution_count": 227
        }
      ]
    },
    {
      "cell_type": "code",
      "source": [
        "# 4. Plotting the data\n",
        "plt.plot(BTCdataPrice)"
      ],
      "metadata": {
        "colab": {
          "base_uri": "https://localhost:8080/",
          "height": 284
        },
        "id": "O0A0p_dEvAkG",
        "outputId": "7dbd1c5d-c7e1-4384-fc0b-8e3e7de314c4"
      },
      "execution_count": null,
      "outputs": [
        {
          "output_type": "execute_result",
          "data": {
            "text/plain": [
              "[<matplotlib.lines.Line2D at 0x7f4f21e24a90>]"
            ]
          },
          "metadata": {},
          "execution_count": 228
        },
        {
          "output_type": "display_data",
          "data": {
            "image/png": "[encoded data removed]",
            "text/plain": [
              "<Figure size 432x288 with 1 Axes>"
            ]
          },
          "metadata": {
            "needs_background": "light"
          }
        }
      ]
    },
    {
      "cell_type": "code",
      "source": [
        "# 4. Normalization the data\n",
        "scaler = MinMaxScaler(feature_range=(0,1))\n",
        "BTCdataNorm = scaler.fit_transform(np.array(BTCdataPrice).reshape(-1,1))"
      ],
      "metadata": {
        "id": "l_UU5NJsvazH"
      },
      "execution_count": null,
      "outputs": []
    },
    {
      "cell_type": "code",
      "source": [
        "# 5. Splitting dataset into train and test split\n",
        "length = 50\n",
        "predSize = 0\n",
        "splitFactor = 0.7\n",
        "\n",
        "trainSize = int((len(BTCdataNorm) - predSize) * splitFactor)\n",
        "testSize = (len(BTCdataNorm) - predSize) - trainSize\n",
        "\n",
        "BTCreshaped = BTCdataNorm.reshape(-1, 1)\n",
        "traindata, testdata = BTCreshaped[0:trainSize, :], BTCreshaped[trainSize - length:trainSize + testSize, :1]"
      ],
      "metadata": {
        "id": "YHKuv4UHw7_-"
      },
      "execution_count": null,
      "outputs": []
    },
    {
      "cell_type": "code",
      "source": [
        "# 6. Create sequences\n",
        "def generateSequences(data, seqLength=1):\n",
        "  seq = []\n",
        "  for i in range(len(data) - seqLength):\n",
        "    seq.append(data[i:(seqLength + i)])\n",
        "  return np.array(seq)"
      ],
      "metadata": {
        "id": "uI9sPQjXw8jN"
      },
      "execution_count": null,
      "outputs": []
    },
    {
      "cell_type": "code",
      "source": [
        "trainX = generateSequences(traindata, seqLength = length)\n",
        "trainY = traindata[length:].reshape(-1)\n",
        "testX = generateSequences(testdata, seqLength = length)\n",
        "testY = testdata[length:].reshape(-1)"
      ],
      "metadata": {
        "id": "qSQkDrpqzRG9"
      },
      "execution_count": null,
      "outputs": []
    },
    {
      "cell_type": "code",
      "source": [
        "# 7. Create Model\n",
        "from tensorflow.keras.models import Sequential\n",
        "from tensorflow.keras.layers import Dense\n",
        "from tensorflow.keras.layers import LSTM\n",
        "from tensorflow.keras.layers import Dropout"
      ],
      "metadata": {
        "id": "RcuTO-KG0M6G"
      },
      "execution_count": null,
      "outputs": []
    },
    {
      "cell_type": "code",
      "source": [
        "model=Sequential()\n",
        "model.add(LSTM(50, return_sequences=True, input_shape=(length, 1)))\n",
        "model.add(Dropout(0.2))\n",
        "model.add(LSTM(50, return_sequences=True))\n",
        "model.add(Dropout(0.2))\n",
        "model.add(LSTM(50))\n",
        "model.add(Dropout(0.2))\n",
        "model.add(Dense(1))\n",
        "model.compile(loss='mean_squared_error',optimizer='adam')\n",
        "model.summary()"
      ],
      "metadata": {
        "colab": {
          "base_uri": "https://localhost:8080/"
        },
        "id": "UduHe4kp0TKG",
        "outputId": "3a8024fa-1340-4fad-884b-bab9056ca359"
      },
      "execution_count": null,
      "outputs": [
        {
          "output_type": "stream",
          "name": "stdout",
          "text": [
            "Model: \"sequential_13\"\n",
            "_________________________________________________________________\n",
            " Layer (type)                Output Shape              Param #   \n",
            "=================================================================\n",
            " lstm_36 (LSTM)              (None, 50, 50)            10400     \n",
            "                                                                 \n",
            " dropout_27 (Dropout)        (None, 50, 50)            0         \n",
            "                                                                 \n",
            " lstm_37 (LSTM)              (None, 50, 50)            20200     \n",
            "                                                                 \n",
            " dropout_28 (Dropout)        (None, 50, 50)            0         \n",
            "                                                                 \n",
            " lstm_38 (LSTM)              (None, 50)                20200     \n",
            "                                                                 \n",
            " dropout_29 (Dropout)        (None, 50)                0         \n",
            "                                                                 \n",
            " dense_12 (Dense)            (None, 1)                 51        \n",
            "                                                                 \n",
            "=================================================================\n",
            "Total params: 50,851\n",
            "Trainable params: 50,851\n",
            "Non-trainable params: 0\n",
            "_________________________________________________________________\n"
          ]
        }
      ]
    },
    {
      "cell_type": "code",
      "source": [
        "# 8. Feed the model with data\n",
        "history = model.fit(trainX, trainY,epochs=100, batch_size=8,verbose=1)"
      ],
      "metadata": {
        "colab": {
          "base_uri": "https://localhost:8080/"
        },
        "id": "Gt-oQ88t0V4G",
        "outputId": "7c4e727b-b1bc-4672-ee48-1ed2cefc5977"
      },
      "execution_count": null,
      "outputs": [
        {
          "output_type": "stream",
          "name": "stdout",
          "text": [
            "Epoch 1/100\n",
            "90/90 [==============================] - 9s 36ms/step - loss: 0.0043\n",
            "Epoch 2/100\n",
            "90/90 [==============================] - 3s 35ms/step - loss: 0.0026\n",
            "Epoch 3/100\n",
            "90/90 [==============================] - 3s 35ms/step - loss: 0.0014\n",
            "Epoch 4/100\n",
            "90/90 [==============================] - 3s 35ms/step - loss: 0.0012\n",
            "Epoch 5/100\n",
            "90/90 [==============================] - 3s 35ms/step - loss: 0.0013\n",
            "Epoch 6/100\n",
            "90/90 [==============================] - 3s 35ms/step - loss: 0.0011\n",
            "Epoch 7/100\n",
            "90/90 [==============================] - 3s 35ms/step - loss: 0.0017\n",
            "Epoch 8/100\n",
            "90/90 [==============================] - 3s 35ms/step - loss: 0.0011\n",
            "Epoch 9/100\n",
            "90/90 [==============================] - 3s 35ms/step - loss: 8.7356e-04\n",
            "Epoch 10/100\n",
            "90/90 [==============================] - 3s 35ms/step - loss: 8.1616e-04\n",
            "Epoch 11/100\n",
            "90/90 [==============================] - 3s 36ms/step - loss: 9.5962e-04\n",
            "Epoch 12/100\n",
            "90/90 [==============================] - 3s 35ms/step - loss: 6.9967e-04\n",
            "Epoch 13/100\n",
            "90/90 [==============================] - 3s 36ms/step - loss: 7.9272e-04\n",
            "Epoch 14/100\n",
            "90/90 [==============================] - 3s 35ms/step - loss: 9.3367e-04\n",
            "Epoch 15/100\n",
            "90/90 [==============================] - 3s 35ms/step - loss: 6.9365e-04\n",
            "Epoch 16/100\n",
            "90/90 [==============================] - 3s 35ms/step - loss: 6.6650e-04\n",
            "Epoch 17/100\n",
            "90/90 [==============================] - 3s 35ms/step - loss: 7.4227e-04\n",
            "Epoch 18/100\n",
            "90/90 [==============================] - 3s 36ms/step - loss: 6.7696e-04\n",
            "Epoch 19/100\n",
            "90/90 [==============================] - 3s 35ms/step - loss: 6.6350e-04\n",
            "Epoch 20/100\n",
            "90/90 [==============================] - 3s 36ms/step - loss: 5.6556e-04\n",
            "Epoch 21/100\n",
            "90/90 [==============================] - 3s 35ms/step - loss: 7.3800e-04\n",
            "Epoch 22/100\n",
            "90/90 [==============================] - 3s 36ms/step - loss: 6.9964e-04\n",
            "Epoch 23/100\n",
            "90/90 [==============================] - 3s 35ms/step - loss: 6.0870e-04\n",
            "Epoch 24/100\n",
            "90/90 [==============================] - 3s 35ms/step - loss: 6.2193e-04\n",
            "Epoch 25/100\n",
            "90/90 [==============================] - 3s 35ms/step - loss: 6.2521e-04\n",
            "Epoch 26/100\n",
            "90/90 [==============================] - 3s 35ms/step - loss: 5.5613e-04\n",
            "Epoch 27/100\n",
            "90/90 [==============================] - 3s 36ms/step - loss: 6.5791e-04\n",
            "Epoch 28/100\n",
            "90/90 [==============================] - 3s 35ms/step - loss: 8.0538e-04\n",
            "Epoch 29/100\n",
            "90/90 [==============================] - 3s 35ms/step - loss: 4.7513e-04\n",
            "Epoch 30/100\n",
            "90/90 [==============================] - 3s 35ms/step - loss: 5.7299e-04\n",
            "Epoch 31/100\n",
            "90/90 [==============================] - 3s 35ms/step - loss: 6.6799e-04\n",
            "Epoch 32/100\n",
            "90/90 [==============================] - 3s 35ms/step - loss: 4.9903e-04\n",
            "Epoch 33/100\n",
            "90/90 [==============================] - 3s 35ms/step - loss: 4.9223e-04\n",
            "Epoch 34/100\n",
            "90/90 [==============================] - 3s 35ms/step - loss: 6.8023e-04\n",
            "Epoch 35/100\n",
            "90/90 [==============================] - 3s 36ms/step - loss: 4.4445e-04\n",
            "Epoch 36/100\n",
            "90/90 [==============================] - 3s 35ms/step - loss: 5.3356e-04\n",
            "Epoch 37/100\n",
            "90/90 [==============================] - 3s 35ms/step - loss: 6.2815e-04\n",
            "Epoch 38/100\n",
            "90/90 [==============================] - 3s 35ms/step - loss: 6.8322e-04\n",
            "Epoch 39/100\n",
            "90/90 [==============================] - 3s 35ms/step - loss: 5.9910e-04\n",
            "Epoch 40/100\n",
            "90/90 [==============================] - 3s 35ms/step - loss: 5.5867e-04\n",
            "Epoch 41/100\n",
            "90/90 [==============================] - 3s 35ms/step - loss: 6.2446e-04\n",
            "Epoch 42/100\n",
            "90/90 [==============================] - 3s 36ms/step - loss: 4.8803e-04\n",
            "Epoch 43/100\n",
            "90/90 [==============================] - 3s 36ms/step - loss: 4.2795e-04\n",
            "Epoch 44/100\n",
            "90/90 [==============================] - 3s 35ms/step - loss: 5.6426e-04\n",
            "Epoch 45/100\n",
            "90/90 [==============================] - 3s 36ms/step - loss: 4.5371e-04\n",
            "Epoch 46/100\n",
            "90/90 [==============================] - 3s 36ms/step - loss: 6.8090e-04\n",
            "Epoch 47/100\n",
            "90/90 [==============================] - 3s 35ms/step - loss: 8.4913e-04\n",
            "Epoch 48/100\n",
            "90/90 [==============================] - 3s 35ms/step - loss: 5.1817e-04\n",
            "Epoch 49/100\n",
            "90/90 [==============================] - 3s 36ms/step - loss: 6.6193e-04\n",
            "Epoch 50/100\n",
            "90/90 [==============================] - 3s 35ms/step - loss: 4.2993e-04\n",
            "Epoch 51/100\n",
            "90/90 [==============================] - 3s 36ms/step - loss: 8.0251e-04\n",
            "Epoch 52/100\n",
            "90/90 [==============================] - 3s 35ms/step - loss: 5.1990e-04\n",
            "Epoch 53/100\n",
            "90/90 [==============================] - 3s 36ms/step - loss: 5.8221e-04\n",
            "Epoch 54/100\n",
            "90/90 [==============================] - 3s 36ms/step - loss: 4.0195e-04\n",
            "Epoch 55/100\n",
            "90/90 [==============================] - 3s 35ms/step - loss: 5.5954e-04\n",
            "Epoch 56/100\n",
            "90/90 [==============================] - 3s 35ms/step - loss: 4.8007e-04\n",
            "Epoch 57/100\n",
            "90/90 [==============================] - 3s 35ms/step - loss: 4.1678e-04\n",
            "Epoch 58/100\n",
            "90/90 [==============================] - 3s 36ms/step - loss: 5.1241e-04\n",
            "Epoch 59/100\n",
            "90/90 [==============================] - 3s 36ms/step - loss: 5.3008e-04\n",
            "Epoch 60/100\n",
            "90/90 [==============================] - 3s 35ms/step - loss: 4.4154e-04\n",
            "Epoch 61/100\n",
            "90/90 [==============================] - 3s 35ms/step - loss: 4.7695e-04\n",
            "Epoch 62/100\n",
            "90/90 [==============================] - 3s 36ms/step - loss: 4.5529e-04\n",
            "Epoch 63/100\n",
            "90/90 [==============================] - 3s 35ms/step - loss: 5.8751e-04\n",
            "Epoch 64/100\n",
            "90/90 [==============================] - 3s 36ms/step - loss: 7.9447e-04\n",
            "Epoch 65/100\n",
            "90/90 [==============================] - 3s 36ms/step - loss: 4.8368e-04\n",
            "Epoch 66/100\n",
            "90/90 [==============================] - 3s 36ms/step - loss: 5.5088e-04\n",
            "Epoch 67/100\n",
            "90/90 [==============================] - 3s 36ms/step - loss: 5.2418e-04\n",
            "Epoch 68/100\n",
            "90/90 [==============================] - 3s 37ms/step - loss: 4.4335e-04\n",
            "Epoch 69/100\n",
            "90/90 [==============================] - 3s 36ms/step - loss: 4.1317e-04\n",
            "Epoch 70/100\n",
            "90/90 [==============================] - 3s 36ms/step - loss: 6.5439e-04\n",
            "Epoch 71/100\n",
            "90/90 [==============================] - 3s 35ms/step - loss: 4.5802e-04\n",
            "Epoch 72/100\n",
            "90/90 [==============================] - 3s 35ms/step - loss: 6.6510e-04\n",
            "Epoch 73/100\n",
            "90/90 [==============================] - 3s 35ms/step - loss: 3.9862e-04\n",
            "Epoch 74/100\n",
            "90/90 [==============================] - 3s 35ms/step - loss: 5.1554e-04\n",
            "Epoch 75/100\n",
            "90/90 [==============================] - 3s 35ms/step - loss: 3.9825e-04\n",
            "Epoch 76/100\n",
            "90/90 [==============================] - 3s 35ms/step - loss: 6.7466e-04\n",
            "Epoch 77/100\n",
            "90/90 [==============================] - 3s 36ms/step - loss: 5.0164e-04\n",
            "Epoch 78/100\n",
            "90/90 [==============================] - 3s 36ms/step - loss: 5.1455e-04\n",
            "Epoch 79/100\n",
            "90/90 [==============================] - 3s 36ms/step - loss: 5.1578e-04\n",
            "Epoch 80/100\n",
            "90/90 [==============================] - 3s 35ms/step - loss: 4.9694e-04\n",
            "Epoch 81/100\n",
            "90/90 [==============================] - 3s 36ms/step - loss: 3.9286e-04\n",
            "Epoch 82/100\n",
            "90/90 [==============================] - 3s 35ms/step - loss: 4.0528e-04\n",
            "Epoch 83/100\n",
            "90/90 [==============================] - 3s 35ms/step - loss: 5.9006e-04\n",
            "Epoch 84/100\n",
            "90/90 [==============================] - 3s 35ms/step - loss: 4.1129e-04\n",
            "Epoch 85/100\n",
            "90/90 [==============================] - 3s 35ms/step - loss: 4.4602e-04\n",
            "Epoch 86/100\n",
            "90/90 [==============================] - 3s 35ms/step - loss: 3.5792e-04\n",
            "Epoch 87/100\n",
            "90/90 [==============================] - 3s 35ms/step - loss: 5.0645e-04\n",
            "Epoch 88/100\n",
            "90/90 [==============================] - 3s 35ms/step - loss: 5.7048e-04\n",
            "Epoch 89/100\n",
            "90/90 [==============================] - 3s 35ms/step - loss: 6.1271e-04\n",
            "Epoch 90/100\n",
            "90/90 [==============================] - 3s 35ms/step - loss: 4.8347e-04\n",
            "Epoch 91/100\n",
            "90/90 [==============================] - 3s 35ms/step - loss: 3.3096e-04\n",
            "Epoch 92/100\n",
            "90/90 [==============================] - 3s 35ms/step - loss: 4.1743e-04\n",
            "Epoch 93/100\n",
            "90/90 [==============================] - 3s 35ms/step - loss: 5.2664e-04\n",
            "Epoch 94/100\n",
            "90/90 [==============================] - 3s 35ms/step - loss: 4.7277e-04\n",
            "Epoch 95/100\n",
            "90/90 [==============================] - 3s 36ms/step - loss: 4.6935e-04\n",
            "Epoch 96/100\n",
            "90/90 [==============================] - 3s 35ms/step - loss: 5.8698e-04\n",
            "Epoch 97/100\n",
            "90/90 [==============================] - 3s 35ms/step - loss: 3.8273e-04\n",
            "Epoch 98/100\n",
            "90/90 [==============================] - 3s 35ms/step - loss: 4.4114e-04\n",
            "Epoch 99/100\n",
            "90/90 [==============================] - 3s 35ms/step - loss: 4.2475e-04\n",
            "Epoch 100/100\n",
            "90/90 [==============================] - 3s 35ms/step - loss: 5.3612e-04\n"
          ]
        }
      ]
    },
    {
      "cell_type": "code",
      "source": [
        "# 9. Plotting how the loss has been changing through the learning process\n",
        "loss = history.history['loss']\n",
        "epochs = range(len(loss))\n",
        "plt.plot(epochs, loss, 'r', label='Training loss')"
      ],
      "metadata": {
        "colab": {
          "base_uri": "https://localhost:8080/",
          "height": 282
        },
        "id": "Tl-dh-WxOUoL",
        "outputId": "29fbf24c-edc5-4047-f1b7-8932ef4241e2"
      },
      "execution_count": null,
      "outputs": [
        {
          "output_type": "execute_result",
          "data": {
            "text/plain": [
              "[<matplotlib.lines.Line2D at 0x7f4f210a9e10>]"
            ]
          },
          "metadata": {},
          "execution_count": 236
        },
        {
          "output_type": "display_data",
          "data": {
            "image/png": "[encoded data removed]",
            "text/plain": [
              "<Figure size 432x288 with 1 Axes>"
            ]
          },
          "metadata": {
            "needs_background": "light"
          }
        }
      ]
    },
    {
      "cell_type": "code",
      "source": [
        "# 10. Make predictions on train and test data\n",
        "trainPredictions = model.predict(trainX)\n",
        "testPredictions = model.predict(testX)"
      ],
      "metadata": {
        "id": "ZEh3hm_E0gAd"
      },
      "execution_count": null,
      "outputs": []
    },
    {
      "cell_type": "code",
      "source": [
        "# 11. Inverse normalization (Back to previous values)\n",
        "trainPredictions = scaler.inverse_transform(trainPredictions)\n",
        "testPredictions = scaler.inverse_transform(testPredictions)"
      ],
      "metadata": {
        "id": "BC6ktLmz0w42"
      },
      "execution_count": null,
      "outputs": []
    },
    {
      "cell_type": "code",
      "source": [
        "# 12. Evaluate model\n",
        "import math\n",
        "from sklearn.metrics import mean_squared_error\n",
        "math.sqrt(mean_squared_error(trainY, trainPredictions))"
      ],
      "metadata": {
        "colab": {
          "base_uri": "https://localhost:8080/"
        },
        "id": "rWPtD-3j04TG",
        "outputId": "63a19676-669e-4255-9540-d32cc60156cb"
      },
      "execution_count": null,
      "outputs": [
        {
          "output_type": "execute_result",
          "data": {
            "text/plain": [
              "14835.049724326293"
            ]
          },
          "metadata": {},
          "execution_count": 239
        }
      ]
    },
    {
      "cell_type": "code",
      "source": [
        "math.sqrt(mean_squared_error(testY, testPredictions))"
      ],
      "metadata": {
        "colab": {
          "base_uri": "https://localhost:8080/"
        },
        "id": "MkXEV6I107Yl",
        "outputId": "c8498d36-0cc9-4f00-a299-ec42a6922a28"
      },
      "execution_count": null,
      "outputs": [
        {
          "output_type": "execute_result",
          "data": {
            "text/plain": [
              "51262.8740322413"
            ]
          },
          "metadata": {},
          "execution_count": 240
        }
      ]
    },
    {
      "cell_type": "code",
      "source": [
        "# 13. Plot BTCdataPrice, trainedPredictions and testPredictions\n",
        "YtrainPredictedToPlot = trainPredictions.reshape(-1)\n",
        "XtrainToPlot = np.linspace(0, trainSize, len(YtrainPredictedToPlot))\n",
        "\n",
        "YtestPredictedToPlot = testPredictions.reshape(-1)\n",
        "XtestToPlot = np.linspace(trainSize, trainSize + testSize, len(YtestPredictedToPlot))\n",
        "\n",
        "# Blue - original data\n",
        "# Orange - train predictions\n",
        "# Green - test predictions\n",
        "plt.plot(BTCdataPrice)\n",
        "plt.plot(XtrainToPlot, YtrainPredictedToPlot)\n",
        "plt.plot(XtestToPlot, YtestPredictedToPlot)"
      ],
      "metadata": {
        "colab": {
          "base_uri": "https://localhost:8080/",
          "height": 284
        },
        "id": "zEmohTX71C1d",
        "outputId": "695e9390-d919-4fe9-948c-52b8f792b6ac"
      },
      "execution_count": null,
      "outputs": [
        {
          "output_type": "execute_result",
          "data": {
            "text/plain": [
              "[<matplotlib.lines.Line2D at 0x7f4f208ae550>]"
            ]
          },
          "metadata": {},
          "execution_count": 241
        },
        {
          "output_type": "display_data",
          "data": {
            "image/png": "[encoded data removed]",
            "text/plain": [
              "<Figure size 432x288 with 1 Axes>"
            ]
          },
          "metadata": {
            "needs_background": "light"
          }
        }
      ]
    },
    {
      "cell_type": "code",
      "source": [
        "# 13. Predict future\n",
        "TempInput = testY\n",
        "TempInput = TempInput[-length-1:].tolist()\n",
        "PredictedOutput = []\n",
        "nPredictions = 120\n",
        "i = 0\n",
        "while(i < nPredictions):  \n",
        "    if len(TempInput) > length:\n",
        "      InputX = np.array(TempInput[1:])\n",
        "      InputX = InputX.reshape(1, length, 1)\n",
        "\n",
        "      newPredictedValue = model.predict(InputX)     \n",
        "      TempInput.extend(newPredictedValue[0].tolist())\n",
        "      TempInput = TempInput[1:]\n",
        "      PredictedOutput.extend(newPredictedValue.tolist())\n",
        "\n",
        "      i = i+1\n",
        "    else:\n",
        "      InputX = InputX.reshape(1, length, 1)\n",
        "      newPredictedValue = model.predict(InputX)\n",
        "\n",
        "      TempInput.extend(newPredictedValue[0].tolist()) \n",
        "      PredictedOutput.extend(newPredictedValue.tolist())\n",
        "      i=i+1"
      ],
      "metadata": {
        "id": "3FreTGIX1FyN"
      },
      "execution_count": null,
      "outputs": []
    },
    {
      "cell_type": "code",
      "source": [
        "# 14. Denormalization predicted data\n",
        "PredictedOutput = scaler.inverse_transform(PredictedOutput)\n",
        "PredictedOutput = PredictedOutput.reshape(-1)\n",
        "xFuture = np.linspace(trainSize + testSize, trainSize + testSize + nPredictions, nPredictions)"
      ],
      "metadata": {
        "id": "66_UYAm12Fst"
      },
      "execution_count": null,
      "outputs": []
    },
    {
      "cell_type": "code",
      "source": [
        "# 15. Plotting future data forecasted by the model\n",
        "\n",
        "# Blue - original data\n",
        "# Orange - train predictions\n",
        "# Green - test predictions\n",
        "# Red - future predictions\n",
        "plt.plot(BTCdataPrice)\n",
        "plt.plot(XtrainToPlot, YtrainPredictedToPlot)\n",
        "plt.plot(XtestToPlot, YtestPredictedToPlot)\n",
        "plt.plot(xFuture, PredictedOutput)"
      ],
      "metadata": {
        "colab": {
          "base_uri": "https://localhost:8080/",
          "height": 282
        },
        "id": "HIrxy_Z62zCD",
        "outputId": "1bc01db1-6be1-4cdf-9848-4bf71aed286c"
      },
      "execution_count": null,
      "outputs": [
        {
          "output_type": "execute_result",
          "data": {
            "text/plain": [
              "[<matplotlib.lines.Line2D at 0x7f4f28393550>]"
            ]
          },
          "metadata": {},
          "execution_count": 244
        },
        {
          "output_type": "display_data",
          "data": {
            "image/png": "[encoded data removed]",
            "text/plain": [
              "<Figure size 432x288 with 1 Axes>"
            ]
          },
          "metadata": {
            "needs_background": "light"
          }
        }
      ]
    },
    {
      "cell_type": "code",
      "source": [
        ""
      ],
      "metadata": {
        "id": "iAVEW-6T23l9"
      },
      "execution_count": null,
      "outputs": []
    }
  ]
}